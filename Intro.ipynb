{
 "cells": [
  {
   "cell_type": "code",
   "execution_count": 1,
   "metadata": {},
   "outputs": [
    {
     "name": "stdout",
     "output_type": "stream",
     "text": [
      "Collecting pandas\n",
      "  Downloading pandas-2.0.3-cp310-cp310-win_amd64.whl (10.7 MB)\n",
      "     ---------------------------------------- 10.7/10.7 MB 2.3 MB/s eta 0:00:00\n",
      "Collecting tzdata>=2022.1\n",
      "  Using cached tzdata-2023.3-py2.py3-none-any.whl (341 kB)\n",
      "Requirement already satisfied: numpy>=1.21.0 in c:\\python310\\lib\\site-packages (from pandas) (1.24.2)\n",
      "Requirement already satisfied: python-dateutil>=2.8.2 in c:\\users\\csjoy\\appdata\\roaming\\python\\python310\\site-packages (from pandas) (2.8.2)\n",
      "Collecting pytz>=2020.1\n",
      "  Using cached pytz-2023.3-py2.py3-none-any.whl (502 kB)\n",
      "Requirement already satisfied: six>=1.5 in c:\\users\\csjoy\\appdata\\roaming\\python\\python310\\site-packages (from python-dateutil>=2.8.2->pandas) (1.16.0)\n",
      "Installing collected packages: pytz, tzdata, pandas\n",
      "Successfully installed pandas-2.0.3 pytz-2023.3 tzdata-2023.3\n",
      "Note: you may need to restart the kernel to use updated packages.\n"
     ]
    },
    {
     "name": "stderr",
     "output_type": "stream",
     "text": [
      "WARNING: Ignoring invalid distribution -p (c:\\python310\\lib\\site-packages)\n",
      "WARNING: Ignoring invalid distribution -p (c:\\python310\\lib\\site-packages)\n",
      "WARNING: Ignoring invalid distribution -ip (c:\\python310\\lib\\site-packages)\n",
      "WARNING: Ignoring invalid distribution - (c:\\python310\\lib\\site-packages)\n",
      "WARNING: Ignoring invalid distribution -p (c:\\python310\\lib\\site-packages)\n",
      "WARNING: Ignoring invalid distribution -p (c:\\python310\\lib\\site-packages)\n",
      "WARNING: Ignoring invalid distribution -ip (c:\\python310\\lib\\site-packages)\n",
      "WARNING: Ignoring invalid distribution - (c:\\python310\\lib\\site-packages)\n",
      "WARNING: Ignoring invalid distribution -p (c:\\python310\\lib\\site-packages)\n",
      "WARNING: Ignoring invalid distribution -p (c:\\python310\\lib\\site-packages)\n",
      "WARNING: Ignoring invalid distribution -ip (c:\\python310\\lib\\site-packages)\n",
      "WARNING: Ignoring invalid distribution - (c:\\python310\\lib\\site-packages)\n",
      "WARNING: Ignoring invalid distribution -p (c:\\python310\\lib\\site-packages)\n",
      "WARNING: Ignoring invalid distribution -p (c:\\python310\\lib\\site-packages)\n",
      "WARNING: Ignoring invalid distribution -ip (c:\\python310\\lib\\site-packages)\n",
      "WARNING: Ignoring invalid distribution - (c:\\python310\\lib\\site-packages)\n",
      "WARNING: Ignoring invalid distribution -p (c:\\python310\\lib\\site-packages)\n",
      "WARNING: Ignoring invalid distribution -p (c:\\python310\\lib\\site-packages)\n",
      "WARNING: Ignoring invalid distribution -ip (c:\\python310\\lib\\site-packages)\n",
      "WARNING: Ignoring invalid distribution - (c:\\python310\\lib\\site-packages)\n",
      "WARNING: Ignoring invalid distribution -p (c:\\python310\\lib\\site-packages)\n",
      "WARNING: Ignoring invalid distribution -p (c:\\python310\\lib\\site-packages)\n",
      "WARNING: Ignoring invalid distribution -ip (c:\\python310\\lib\\site-packages)\n",
      "WARNING: Ignoring invalid distribution - (c:\\python310\\lib\\site-packages)\n",
      "WARNING: Ignoring invalid distribution -p (c:\\python310\\lib\\site-packages)\n",
      "WARNING: Ignoring invalid distribution -p (c:\\python310\\lib\\site-packages)\n",
      "WARNING: Ignoring invalid distribution -ip (c:\\python310\\lib\\site-packages)\n",
      "WARNING: Ignoring invalid distribution - (c:\\python310\\lib\\site-packages)\n",
      "WARNING: Ignoring invalid distribution -p (c:\\python310\\lib\\site-packages)\n",
      "WARNING: Ignoring invalid distribution -p (c:\\python310\\lib\\site-packages)\n",
      "WARNING: Ignoring invalid distribution -ip (c:\\python310\\lib\\site-packages)\n",
      "WARNING: Ignoring invalid distribution - (c:\\python310\\lib\\site-packages)\n",
      "WARNING: Ignoring invalid distribution -p (c:\\python310\\lib\\site-packages)\n",
      "WARNING: Ignoring invalid distribution -p (c:\\python310\\lib\\site-packages)\n",
      "WARNING: Ignoring invalid distribution -ip (c:\\python310\\lib\\site-packages)\n",
      "WARNING: Ignoring invalid distribution - (c:\\python310\\lib\\site-packages)\n",
      "\n",
      "[notice] A new release of pip available: 22.2.2 -> 23.2.1\n",
      "[notice] To update, run: python.exe -m pip install --upgrade pip\n"
     ]
    }
   ],
   "source": [
    "pip install pandas"
   ]
  },
  {
   "cell_type": "code",
   "execution_count": 49,
   "metadata": {},
   "outputs": [
    {
     "name": "stdout",
     "output_type": "stream",
     "text": [
      "<bound method DataFrame.to_string of          lesion_id      image_id     dx dx_type   age     sex localization\n",
      "0      HAM_0000118  ISIC_0027419    bkl   histo  80.0    male        scalp\n",
      "1      HAM_0000118  ISIC_0025030    bkl   histo  80.0    male        scalp\n",
      "2      HAM_0002730  ISIC_0026769    bkl   histo  80.0    male        scalp\n",
      "3      HAM_0002730  ISIC_0025661    bkl   histo  80.0    male        scalp\n",
      "4      HAM_0001466  ISIC_0031633    bkl   histo  75.0    male          ear\n",
      "...            ...           ...    ...     ...   ...     ...          ...\n",
      "10010  HAM_0002867  ISIC_0033084  akiec   histo  40.0    male      abdomen\n",
      "10011  HAM_0002867  ISIC_0033550  akiec   histo  40.0    male      abdomen\n",
      "10012  HAM_0002867  ISIC_0033536  akiec   histo  40.0    male      abdomen\n",
      "10013  HAM_0000239  ISIC_0032854  akiec   histo  80.0    male         face\n",
      "10014  HAM_0003521  ISIC_0032258    mel   histo  70.0  female         back\n",
      "\n",
      "[10015 rows x 7 columns]>\n"
     ]
    }
   ],
   "source": [
    "import pandas as pd\n",
    "\n",
    "df = pd.read_csv(\"HAM10000_metadata.csv\")\n",
    "\n",
    "print(df.to_string)"
   ]
  },
  {
   "cell_type": "code",
   "execution_count": 50,
   "metadata": {},
   "outputs": [
    {
     "name": "stdout",
     "output_type": "stream",
     "text": [
      "         lesion_id      image_id     dx dx_type   age     sex localization\n",
      "0      HAM_0000118  ISIC_0027419    bkl   histo  80.0    male        scalp\n",
      "1      HAM_0000118  ISIC_0025030    bkl   histo  80.0    male        scalp\n",
      "2      HAM_0002730  ISIC_0026769    bkl   histo  80.0    male        scalp\n",
      "3      HAM_0002730  ISIC_0025661    bkl   histo  80.0    male        scalp\n",
      "4      HAM_0001466  ISIC_0031633    bkl   histo  75.0    male          ear\n",
      "...            ...           ...    ...     ...   ...     ...          ...\n",
      "10010  HAM_0002867  ISIC_0033084  akiec   histo  40.0    male      abdomen\n",
      "10011  HAM_0002867  ISIC_0033550  akiec   histo  40.0    male      abdomen\n",
      "10012  HAM_0002867  ISIC_0033536  akiec   histo  40.0    male      abdomen\n",
      "10013  HAM_0000239  ISIC_0032854  akiec   histo  80.0    male         face\n",
      "10014  HAM_0003521  ISIC_0032258    mel   histo  70.0  female         back\n",
      "\n",
      "[10015 rows x 7 columns]\n"
     ]
    }
   ],
   "source": [
    "## dataframe of the given dataset\n",
    "print(pd.DataFrame(df))"
   ]
  },
  {
   "cell_type": "code",
   "execution_count": 51,
   "metadata": {},
   "outputs": [
    {
     "name": "stdout",
     "output_type": "stream",
     "text": [
      "lesion_id        HAM_0002957\n",
      "image_id        ISIC_0025876\n",
      "dx                       bkl\n",
      "dx_type                histo\n",
      "age                     70.0\n",
      "sex                     male\n",
      "localization            back\n",
      "Name: 100, dtype: object\n"
     ]
    }
   ],
   "source": [
    "print(pd.DataFrame(df).loc[100])"
   ]
  },
  {
   "cell_type": "code",
   "execution_count": 52,
   "metadata": {},
   "outputs": [
    {
     "name": "stdout",
     "output_type": "stream",
     "text": [
      "       lesion_id      image_id   dx dx_type   age     sex     localization\n",
      "50   HAM_0003670  ISIC_0030105  bkl   histo  80.0  female          unknown\n",
      "67   HAM_0004641  ISIC_0025099  bkl   histo  60.0    male          abdomen\n",
      "136  HAM_0005299  ISIC_0033466  bkl   histo  55.0  female  lower extremity\n"
     ]
    }
   ],
   "source": [
    "print(pd.DataFrame(df).loc[[50, 67, 136]])"
   ]
  },
  {
   "cell_type": "markdown",
   "metadata": {},
   "source": [
    "#### Dataframe"
   ]
  },
  {
   "cell_type": "code",
   "execution_count": 7,
   "metadata": {},
   "outputs": [
    {
     "name": "stdout",
     "output_type": "stream",
     "text": [
      "  medicine  diseas\n",
      "0      abc       1\n",
      "1      bcd       4\n",
      "2      agf       8\n"
     ]
    }
   ],
   "source": [
    "mydataset = {\n",
    "    'medicine': ['abc', 'bcd', 'agf'],\n",
    "    'diseas': [1, 4, 8]\n",
    "}\n",
    "\n",
    "print(pd.DataFrame(mydataset))"
   ]
  },
  {
   "cell_type": "markdown",
   "metadata": {},
   "source": [
    "### Series"
   ]
  },
  {
   "cell_type": "code",
   "execution_count": 11,
   "metadata": {},
   "outputs": [
    {
     "name": "stdout",
     "output_type": "stream",
     "text": [
      "0           2\n",
      "1    medicine\n",
      "2           4\n",
      "3     mk chin\n",
      "4      4.6769\n",
      "dtype: object\n"
     ]
    }
   ],
   "source": [
    "data = [2, 'medicine', 4, 'mk chin', 4.6769]\n",
    "\n",
    "print(pd.Series(data))"
   ]
  },
  {
   "cell_type": "code",
   "execution_count": 19,
   "metadata": {},
   "outputs": [
    {
     "name": "stdout",
     "output_type": "stream",
     "text": [
      "x           2\n",
      "y    medicine\n",
      "z           4\n",
      "k     mk chin\n",
      "l      4.6769\n",
      "dtype: object\n",
      "4\n",
      "4\n"
     ]
    }
   ],
   "source": [
    "## label\n",
    "var = pd.Series(data, index=['x', 'y', 'z', 'k', 'l'])\n",
    "print(\n",
    "    var\n",
    ")\n",
    "\n",
    "print(var[2])\n",
    "print(var['z'])"
   ]
  },
  {
   "cell_type": "markdown",
   "metadata": {},
   "source": [
    "#### key/value"
   ]
  },
  {
   "cell_type": "code",
   "execution_count": 22,
   "metadata": {},
   "outputs": [
    {
     "name": "stdout",
     "output_type": "stream",
     "text": [
      "cse      450000\n",
      "bba     4567567\n",
      "eng    2,56,789\n",
      "dtype: object\n",
      "4567567\n"
     ]
    }
   ],
   "source": [
    "# dict\n",
    "tution_fee = {'cse': 450000, 'bba': 4567567, 'eng': '2,56,789'}\n",
    "\n",
    "print(pd.Series(tution_fee))\n",
    "\n",
    "print(tution_fee['bba'])"
   ]
  },
  {
   "cell_type": "code",
   "execution_count": 23,
   "metadata": {},
   "outputs": [
    {
     "name": "stdout",
     "output_type": "stream",
     "text": [
      "cse      450000\n",
      "eng    2,56,789\n",
      "dtype: object\n"
     ]
    }
   ],
   "source": [
    "print(pd.Series(tution_fee, index=['cse', 'eng']))"
   ]
  },
  {
   "cell_type": "markdown",
   "metadata": {},
   "source": [
    "#### Dataframe"
   ]
  },
  {
   "cell_type": "code",
   "execution_count": 25,
   "metadata": {},
   "outputs": [
    {
     "name": "stdout",
     "output_type": "stream",
     "text": [
      "  department  floor  lectureres\n",
      "0        cse      3          15\n",
      "1        bba      7          11\n",
      "2        eng      5          17\n"
     ]
    }
   ],
   "source": [
    "dt = {\n",
    "    'department': ['cse', 'bba', 'eng'],\n",
    "    'floor': [3, 7, 5],\n",
    "    'lectureres': [15, 11, 17]\n",
    "}\n",
    "\n",
    "print(pd.DataFrame(dt))"
   ]
  },
  {
   "cell_type": "code",
   "execution_count": 27,
   "metadata": {},
   "outputs": [
    {
     "name": "stdout",
     "output_type": "stream",
     "text": [
      "department    bba\n",
      "floor           7\n",
      "lectureres     11\n",
      "Name: 1, dtype: object\n"
     ]
    }
   ],
   "source": [
    "# locate row\n",
    "print(pd.DataFrame(dt).loc[1])"
   ]
  },
  {
   "cell_type": "code",
   "execution_count": 34,
   "metadata": {},
   "outputs": [
    {
     "name": "stdout",
     "output_type": "stream",
     "text": [
      "  department  floor  lectureres\n",
      "0        cse      3          15\n",
      "1        bba      7          11\n"
     ]
    }
   ],
   "source": [
    "# use a list of index\n",
    "\n",
    "print(pd.DataFrame(dt).loc[[0, 1]])"
   ]
  },
  {
   "cell_type": "code",
   "execution_count": 39,
   "metadata": {},
   "outputs": [
    {
     "name": "stdout",
     "output_type": "stream",
     "text": [
      "60\n"
     ]
    }
   ],
   "source": [
    "print(pd.options.display.max_rows)"
   ]
  },
  {
   "cell_type": "markdown",
   "metadata": {},
   "source": [
    "#### Read JSON"
   ]
  },
  {
   "cell_type": "code",
   "execution_count": 46,
   "metadata": {},
   "outputs": [
    {
     "name": "stdout",
     "output_type": "stream",
     "text": [
      "   Duration  Pulse  Maxpulse  Calories\n",
      "0        60    110       130       409\n",
      "1        60    117       145       479\n",
      "2        60    103       135       340\n",
      "3        45    109       175       282\n",
      "4        45    117       148       406\n",
      "5        60    102       127       300\n"
     ]
    }
   ],
   "source": [
    "# dict\n",
    "datas = {\n",
    "\"Duration\":{\n",
    "    \"0\":60,\n",
    "    \"1\":60,\n",
    "    \"2\":60,\n",
    "    \"3\":45,\n",
    "    \"4\":45,\n",
    "    \"5\":60\n",
    "  },\n",
    "  \"Pulse\":{\n",
    "    \"0\":110,\n",
    "    \"1\":117,\n",
    "    \"2\":103,\n",
    "    \"3\":109,\n",
    "    \"4\":117,\n",
    "    \"5\":102\n",
    "  },\n",
    "  \"Maxpulse\":{\n",
    "    \"0\":130,\n",
    "    \"1\":145,\n",
    "    \"2\":135,\n",
    "    \"3\":175,\n",
    "    \"4\":148,\n",
    "    \"5\":127\n",
    "  },\n",
    "  \"Calories\":{\n",
    "    \"0\":409,\n",
    "    \"1\":479,\n",
    "    \"2\":340,\n",
    "    \"3\":282,\n",
    "    \"4\":406,\n",
    "    \"5\":300\n",
    "  }\n",
    "}\n",
    "\n",
    "\n",
    "print(pd.DataFrame(datas))"
   ]
  },
  {
   "cell_type": "code",
   "execution_count": 48,
   "metadata": {},
   "outputs": [
    {
     "name": "stdout",
     "output_type": "stream",
     "text": [
      "   Duration  Pulse  Maxpulse  Calories\n",
      "0        60    110       130       409\n",
      "1        60    117       145       479\n",
      "2        60    103       135       340\n",
      "3        45    109       175       282\n",
      "4        45    117       148       406\n",
      "5        60    102       127       300\n"
     ]
    }
   ],
   "source": [
    "json_data = pd.read_json('data.json')\n",
    "print(pd.DataFrame(json_data))"
   ]
  },
  {
   "cell_type": "markdown",
   "metadata": {},
   "source": [
    "#### Analyzing Data"
   ]
  },
  {
   "cell_type": "code",
   "execution_count": 55,
   "metadata": {},
   "outputs": [
    {
     "name": "stdout",
     "output_type": "stream",
     "text": [
      "     lesion_id      image_id   dx dx_type   age     sex localization\n",
      "0  HAM_0000118  ISIC_0027419  bkl   histo  80.0    male        scalp\n",
      "1  HAM_0000118  ISIC_0025030  bkl   histo  80.0    male        scalp\n",
      "2  HAM_0002730  ISIC_0026769  bkl   histo  80.0    male        scalp\n",
      "3  HAM_0002730  ISIC_0025661  bkl   histo  80.0    male        scalp\n",
      "4  HAM_0001466  ISIC_0031633  bkl   histo  75.0    male          ear\n",
      "5  HAM_0001466  ISIC_0027850  bkl   histo  75.0    male          ear\n",
      "6  HAM_0002761  ISIC_0029176  bkl   histo  60.0    male         face\n",
      "7  HAM_0002761  ISIC_0029068  bkl   histo  60.0    male         face\n",
      "8  HAM_0005132  ISIC_0025837  bkl   histo  70.0  female         back\n",
      "9  HAM_0005132  ISIC_0025209  bkl   histo  70.0  female         back\n"
     ]
    }
   ],
   "source": [
    "# head() method returns the headers and a specified number of rows, starting from the top\n",
    "data = pd.read_csv('HAM10000_metadata.csv')\n",
    "\n",
    "print(data.head(10))"
   ]
  },
  {
   "cell_type": "code",
   "execution_count": 56,
   "metadata": {},
   "outputs": [
    {
     "name": "stdout",
     "output_type": "stream",
     "text": [
      "         lesion_id      image_id     dx dx_type   age     sex     localization\n",
      "10005  HAM_0005579  ISIC_0028393  akiec   histo  80.0    male             face\n",
      "10006  HAM_0004034  ISIC_0024948  akiec   histo  55.0  female             face\n",
      "10007  HAM_0001565  ISIC_0028619  akiec   histo  60.0  female             face\n",
      "10008  HAM_0001576  ISIC_0033705  akiec   histo  60.0    male             face\n",
      "10009  HAM_0005705  ISIC_0031430  akiec   histo  75.0  female  lower extremity\n",
      "10010  HAM_0002867  ISIC_0033084  akiec   histo  40.0    male          abdomen\n",
      "10011  HAM_0002867  ISIC_0033550  akiec   histo  40.0    male          abdomen\n",
      "10012  HAM_0002867  ISIC_0033536  akiec   histo  40.0    male          abdomen\n",
      "10013  HAM_0000239  ISIC_0032854  akiec   histo  80.0    male             face\n",
      "10014  HAM_0003521  ISIC_0032258    mel   histo  70.0  female             back\n"
     ]
    }
   ],
   "source": [
    "# tail() method for viewing the last rows of the DataFrame\n",
    "print(data.tail(10))"
   ]
  },
  {
   "cell_type": "code",
   "execution_count": 57,
   "metadata": {},
   "outputs": [
    {
     "name": "stdout",
     "output_type": "stream",
     "text": [
      "<class 'pandas.core.frame.DataFrame'>\n",
      "RangeIndex: 10015 entries, 0 to 10014\n",
      "Data columns (total 7 columns):\n",
      " #   Column        Non-Null Count  Dtype  \n",
      "---  ------        --------------  -----  \n",
      " 0   lesion_id     10015 non-null  object \n",
      " 1   image_id      10015 non-null  object \n",
      " 2   dx            10015 non-null  object \n",
      " 3   dx_type       10015 non-null  object \n",
      " 4   age           9958 non-null   float64\n",
      " 5   sex           10015 non-null  object \n",
      " 6   localization  10015 non-null  object \n",
      "dtypes: float64(1), object(6)\n",
      "memory usage: 547.8+ KB\n",
      "None\n"
     ]
    }
   ],
   "source": [
    "# info(), that gives you more information about the data set\n",
    "\n",
    "print(data.info())"
   ]
  }
 ],
 "metadata": {
  "kernelspec": {
   "display_name": "Python 3",
   "language": "python",
   "name": "python3"
  },
  "language_info": {
   "codemirror_mode": {
    "name": "ipython",
    "version": 3
   },
   "file_extension": ".py",
   "mimetype": "text/x-python",
   "name": "python",
   "nbconvert_exporter": "python",
   "pygments_lexer": "ipython3",
   "version": "3.10.8"
  },
  "orig_nbformat": 4
 },
 "nbformat": 4,
 "nbformat_minor": 2
}
